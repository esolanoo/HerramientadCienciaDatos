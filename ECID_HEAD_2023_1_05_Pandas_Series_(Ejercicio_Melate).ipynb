{
  "cells": [
    {
      "cell_type": "markdown",
      "metadata": {
        "id": "zSzze_BaymYP"
      },
      "source": [
        "# Instrucciones\n",
        "El archivo _melate.csv_ contiene los datos de la bolsa acumulada del concurso Melate desde el primero de enero de 1995, concurso que se celebra todos los miércoles, viernes y domingo.  \n",
        "Si un día no hubo concurso, estará marcado en el archivo como un par de comillas dobles.  \n",
        "Si nadie gana el concurso, se acumulan las ganancias para el siguiente sorteo.  \n",
        "Si alguien gana el sorteo, la siguiente fecha inicia con una bolsa mínima, que para sorteos seguidos suele ser la misma.\n",
        "\n",
        "1. Importa el archivo desde [https://raw.githubusercontent.com/DRMiguelAR/Herramientas_Analisis/master/melate.csv](https://raw.githubusercontent.com/DRMiguelAR/Herramientas_Analisis/master/melate.csv)  \n",
        "1. Abre el archivo y convierte la serie de datos a una Serie de pandas.\n",
        "1. Genera una serie con todos lo miércoles, viernes y domingos a partir del primero de enero de 1995 hasta el 28 de septiembre de 2022.  \n",
        "1. Agrega esta serie de fechas como índice a las bolsas del melate.\n",
        "1. Encuentra cuántos valores vacíos y cuantos valores válidos tiene la serie.\n",
        "1. Filtra los valores vacíos de la serie, para sólo quedarte con los valores válidos\n",
        "1. Encuentra algunas estadísticas de la serie, para cada una, genera un campo en el que describas qué significa el resultado obtenido.\n",
        "\n",
        ">> count, min, max, argmin, argmax, idxmin, idxmax, quantile, sum, mean, median, mode, var, std, skew, kurt, cumsum, cummin, cummax, diff, pct_change, histogram, describe\n",
        "\n",
        "8. Contesta las siguientes preguntas:  \n",
        "    a. ¿Cuál es la mayor cantidad de sorteos que han pasado sin obtener un ganador?  \n",
        "    a. ¿Cuál es la vez en que ha habido ganadores de melate más próximos?\n"
      ]
    },
    {
      "cell_type": "markdown",
      "metadata": {},
      "source": [
        "2. Abre el archivo y convierte la serie de datos a una Serie de pandas."
      ]
    },
    {
      "cell_type": "code",
      "execution_count": 70,
      "metadata": {
        "id": "7PBBzs96vRaG"
      },
      "outputs": [
        {
          "name": "stdout",
          "output_type": "stream",
          "text": [
            "<class 'pandas.core.frame.DataFrame'>\n",
            "RangeIndex: 4343 entries, 0 to 4342\n",
            "Data columns (total 1 columns):\n",
            " #   Column  Non-Null Count  Dtype  \n",
            "---  ------  --------------  -----  \n",
            " 0   Amount  2906 non-null   float64\n",
            "dtypes: float64(1)\n",
            "memory usage: 34.1 KB\n",
            "(4343, 1) \n",
            " None\n",
            "        Amount\n",
            "0      3000000\n",
            "1      3800000\n",
            "2          NaN\n",
            "3      2000000\n",
            "4      2200000\n",
            "...        ...\n",
            "4338 358900000\n",
            "4339 361000000\n",
            "4340 365000000\n",
            "4341 368800000\n",
            "4342 371600000\n",
            "\n",
            "[4343 rows x 1 columns]\n"
          ]
        },
        {
          "data": {
            "text/plain": [
              "0        3000000\n",
              "1        3800000\n",
              "2            NaN\n",
              "3        2000000\n",
              "4        2200000\n",
              "          ...   \n",
              "4338   358900000\n",
              "4339   361000000\n",
              "4340   365000000\n",
              "4341   368800000\n",
              "4342   371600000\n",
              "Name: Amount, Length: 4343, dtype: float64"
            ]
          },
          "execution_count": 70,
          "metadata": {},
          "output_type": "execute_result"
        }
      ],
      "source": [
        "import os\n",
        "import pandas as pd\n",
        "\n",
        "file_path = os.getcwd()\n",
        "folder_path = '\\\\datasets\\\\melate.csv'\n",
        "df = pd.read_csv(file_path + folder_path, names=['Amount'])\n",
        "print(df.shape, '\\n', df.info())\n",
        "print(df)\n",
        "data = df['Amount']\n",
        "data"
      ]
    },
    {
      "cell_type": "markdown",
      "metadata": {},
      "source": [
        "3. Genera una serie con todos lo miércoles, viernes y domingos a partir del primero de enero de 1995 hasta el 28 de septiembre de 2022."
      ]
    },
    {
      "cell_type": "code",
      "execution_count": 71,
      "metadata": {},
      "outputs": [
        {
          "data": {
            "text/plain": [
              "0      1995-01-01\n",
              "1      1995-01-04\n",
              "2      1995-01-06\n",
              "3      1995-01-08\n",
              "4      1995-01-11\n",
              "          ...    \n",
              "4338   2022-09-18\n",
              "4339   2022-09-21\n",
              "4340   2022-09-23\n",
              "4341   2022-09-25\n",
              "4342   2022-09-28\n",
              "Length: 4343, dtype: datetime64[ns]"
            ]
          },
          "execution_count": 71,
          "metadata": {},
          "output_type": "execute_result"
        }
      ],
      "source": [
        "date_range = pd.date_range(start='1995-01-01', end='2022-09-28')\n",
        "filtered_dates = date_range[date_range.weekday.isin([2, 4, 6])]\n",
        "date_series = pd.Series(filtered_dates)\n",
        "date_series"
      ]
    },
    {
      "cell_type": "markdown",
      "metadata": {},
      "source": [
        "4. Agrega esta serie de fechas como índice a las bolsas del melate."
      ]
    },
    {
      "cell_type": "code",
      "execution_count": 72,
      "metadata": {},
      "outputs": [
        {
          "data": {
            "text/plain": [
              "1995-01-01     3000000\n",
              "1995-01-04     3800000\n",
              "1995-01-06         NaN\n",
              "1995-01-08     2000000\n",
              "1995-01-11     2200000\n",
              "                ...   \n",
              "2022-09-18   358900000\n",
              "2022-09-21   361000000\n",
              "2022-09-23   365000000\n",
              "2022-09-25   368800000\n",
              "2022-09-28   371600000\n",
              "Name: Amount, Length: 4343, dtype: float64"
            ]
          },
          "execution_count": 72,
          "metadata": {},
          "output_type": "execute_result"
        }
      ],
      "source": [
        "data = data.set_axis(date_series)\n",
        "data"
      ]
    },
    {
      "cell_type": "markdown",
      "metadata": {},
      "source": [
        "5. Encuentra cuántos valores vacíos y cuantos valores válidos tiene la serie."
      ]
    },
    {
      "cell_type": "code",
      "execution_count": 73,
      "metadata": {},
      "outputs": [
        {
          "name": "stdout",
          "output_type": "stream",
          "text": [
            "<class 'pandas.core.series.Series'>\n",
            "DatetimeIndex: 4343 entries, 1995-01-01 to 2022-09-28\n",
            "Series name: Amount\n",
            "Non-Null Count  Dtype  \n",
            "--------------  -----  \n",
            "2906 non-null   float64\n",
            "dtypes: float64(1)\n",
            "memory usage: 67.9 KB\n"
          ]
        }
      ],
      "source": [
        "data.info()"
      ]
    },
    {
      "cell_type": "markdown",
      "metadata": {},
      "source": [
        "> Tiene 4343 elementos, de los cuales 2906 no son NaN, 1437 sí lo son"
      ]
    },
    {
      "cell_type": "markdown",
      "metadata": {},
      "source": [
        "6. Filtra los valores vacíos de la serie, para sólo quedarte con los valores válidos"
      ]
    },
    {
      "cell_type": "code",
      "execution_count": 74,
      "metadata": {},
      "outputs": [
        {
          "data": {
            "text/plain": [
              "1995-01-01     3000000\n",
              "1995-01-04     3800000\n",
              "1995-01-08     2000000\n",
              "1995-01-11     2200000\n",
              "1995-01-15     2500000\n",
              "                ...   \n",
              "2022-09-18   358900000\n",
              "2022-09-21   361000000\n",
              "2022-09-23   365000000\n",
              "2022-09-25   368800000\n",
              "2022-09-28   371600000\n",
              "Name: Amount, Length: 2906, dtype: float64"
            ]
          },
          "execution_count": 74,
          "metadata": {},
          "output_type": "execute_result"
        }
      ],
      "source": [
        "data = data.dropna()\n",
        "data"
      ]
    },
    {
      "cell_type": "markdown",
      "metadata": {},
      "source": [
        "7. Encuentra algunas estadísticas de la serie, para cada una, genera un campo en el que describas qué significa el resultado obtenido.\n",
        "\n",
        "> count, min, max, argmin, argmax, idxmin, idxmax, quantile, sum, mean, median, mode, var, std, skew, kurt, cumsum, cummin, cummax, diff, pct_change, histogram, describe"
      ]
    },
    {
      "cell_type": "code",
      "execution_count": 75,
      "metadata": {},
      "outputs": [
        {
          "data": {
            "text/plain": [
              "count        2906\n",
              "mean     80041195\n",
              "std     103340273\n",
              "min             0\n",
              "25%      13000000\n",
              "50%      34000000\n",
              "75%     106000000\n",
              "max     639500000\n",
              "Name: Amount, dtype: float64"
            ]
          },
          "execution_count": 75,
          "metadata": {},
          "output_type": "execute_result"
        }
      ],
      "source": [
        "pd.set_option('display.float_format', '{:.0f}'.format)\n",
        "data.describe()"
      ]
    },
    {
      "cell_type": "markdown",
      "metadata": {},
      "source": [
        "*A partir de esta descripción podemos afirmar que la bolsa solo ha tenido menos de **13,00,000** MXN25% de las veces registradas, y el 75% de las veces ha tenido al menos **106,000,000** MXN*"
      ]
    },
    {
      "cell_type": "code",
      "execution_count": 76,
      "metadata": {},
      "outputs": [
        {
          "name": "stdout",
          "output_type": "stream",
          "text": [
            "639500000.0 2013-07-31 00:00:00\n",
            "0.0 2006-12-27 00:00:00\n"
          ]
        }
      ],
      "source": [
        "print(data.max(), data.idxmax())\n",
        "print(data.min(), data.idxmin())"
      ]
    },
    {
      "cell_type": "markdown",
      "metadata": {},
      "source": [
        "*También podemos decir que el valor máximo de MXN en la bolsa de Melate ha sido de **639,500,000** MXN el **2013-07-31**, el mínimo historico fue de **0** MXN en **2006-12-27** *"
      ]
    },
    {
      "cell_type": "code",
      "execution_count": 77,
      "metadata": {},
      "outputs": [
        {
          "data": {
            "text/plain": [
              "232599713000.0"
            ]
          },
          "execution_count": 77,
          "metadata": {},
          "output_type": "execute_result"
        }
      ],
      "source": [
        "data.sum()"
      ]
    },
    {
      "cell_type": "markdown",
      "metadata": {},
      "source": [
        "*A lo largo de la historia de Melate, la bolsa ha acumulado un total de **232,599,713,000** MXN*"
      ]
    },
    {
      "cell_type": "code",
      "execution_count": 78,
      "metadata": {},
      "outputs": [
        {
          "name": "stdout",
          "output_type": "stream",
          "text": [
            "80041195.11355816\n",
            "1.0679212027049354e+16 103340273.01613517\n"
          ]
        }
      ],
      "source": [
        "print(data.mean())\n",
        "print(data.var(), data.std())"
      ]
    },
    {
      "cell_type": "markdown",
      "metadata": {},
      "source": [
        "*Pero el promedio ha sido de **80,041,195** MXN con una desviacion estándar de **103,340,273** MXN y una varianza de **1.06792x10<sup>16</sup>***"
      ]
    },
    {
      "cell_type": "code",
      "execution_count": 79,
      "metadata": {},
      "outputs": [
        {
          "data": {
            "text/plain": [
              "2.248005005008525"
            ]
          },
          "execution_count": 79,
          "metadata": {},
          "output_type": "execute_result"
        }
      ],
      "source": [
        "data.skew()"
      ]
    },
    {
      "cell_type": "markdown",
      "metadata": {},
      "source": [
        " *Ya que el coeficiente de asimetría es mayor a cero, podemos esperar que la mayoría de los datos se agrupan a la izquierda de la media con la **posible** excepcion de unos cuantos valores de gran magnitud que se encuentran a la derecha de la misma*"
      ]
    },
    {
      "cell_type": "code",
      "execution_count": 80,
      "metadata": {},
      "outputs": [
        {
          "data": {
            "text/plain": [
              "5.6129044562436565"
            ]
          },
          "execution_count": 80,
          "metadata": {},
          "output_type": "execute_result"
        }
      ],
      "source": [
        "data.kurt()"
      ]
    },
    {
      "cell_type": "markdown",
      "metadata": {},
      "source": [
        "*El valor de curtosis de la distribución de datos nos indica que esta es **leptocúrtica**; es decir, vamos a ver un mayor concentración de valores lejos de la media, tendremos una distribución mas 'picuda'*"
      ]
    },
    {
      "cell_type": "code",
      "execution_count": 81,
      "metadata": {},
      "outputs": [
        {
          "data": {
            "text/plain": [
              "1995-01-01        NaN\n",
              "1995-01-04     800000\n",
              "1995-01-08   -1800000\n",
              "1995-01-11     200000\n",
              "1995-01-15     300000\n",
              "               ...   \n",
              "2022-09-18    4200000\n",
              "2022-09-21    2100000\n",
              "2022-09-23    4000000\n",
              "2022-09-25    3800000\n",
              "2022-09-28    2800000\n",
              "Name: Amount, Length: 2906, dtype: float64"
            ]
          },
          "execution_count": 81,
          "metadata": {},
          "output_type": "execute_result"
        }
      ],
      "source": [
        "data.diff()"
      ]
    },
    {
      "cell_type": "code",
      "execution_count": 82,
      "metadata": {},
      "outputs": [
        {
          "name": "stdout",
          "output_type": "stream",
          "text": [
            "126884.68158347676 -609500000.0 236000000.0\n"
          ]
        }
      ],
      "source": [
        "print(data.diff().mean(), data.diff().min(), data.diff().max())"
      ]
    },
    {
      "cell_type": "markdown",
      "metadata": {},
      "source": [
        "*Como podemos ver en los datos estadisticos obtenidos de la serie de diferencias entre valores consecutivos, la media de incremento en el valor de la bolsa de Melate es de **1236,885** MXN cada nuevo sorteo, con los extremos casos historicos de la diferencia máxima de **236,000,000** MXN y la 'perdida' máxima de **-609,500,000** MXN*"
      ]
    },
    {
      "cell_type": "code",
      "execution_count": 83,
      "metadata": {},
      "outputs": [
        {
          "data": {
            "text/plain": [
              "<Axes: >"
            ]
          },
          "execution_count": 83,
          "metadata": {},
          "output_type": "execute_result"
        },
        {
          "data": {
            "image/png": "[encoded data removed]",
            "text/plain": [
              "<Figure size 640x480 with 1 Axes>"
            ]
          },
          "metadata": {},
          "output_type": "display_data"
        }
      ],
      "source": [
        "data.hist(grid=False, bins=20)"
      ]
    },
    {
      "cell_type": "markdown",
      "metadata": {},
      "source": [
        "*Aquí podemos ver gráficamente la distribución de los datos y comprobamos todas las características que pudimos deducir a partir de los análisis anteriores*"
      ]
    },
    {
      "cell_type": "markdown",
      "metadata": {},
      "source": [
        "8. Contesta las siguientes preguntas:  \n",
        "    a. ¿Cuál es la mayor cantidad de sorteos que han pasado sin obtener un ganador?"
      ]
    },
    {
      "cell_type": "code",
      "execution_count": 84,
      "metadata": {},
      "outputs": [
        {
          "name": "stdout",
          "output_type": "stream",
          "text": [
            "La mayor cantidad de torneos sin ganar ha sido 51.0\n"
          ]
        }
      ],
      "source": [
        "sin_ganador = df['Amount'].diff()[df['Amount'].diff()>0] # Serie con solo los sorteos sin ganadores\n",
        "idx_sin_ganador = pd.Series(sin_ganador.index) # índices de los sorteos sin ganador\n",
        "sorteos_sin_ganador = idx_sin_ganador.diff() # número de sorteos sin ganar entre sorteos ganados\n",
        "print(f\"La mayor cantidad de torneos sin ganar ha sido {sorteos_sin_ganador.max()}\")"
      ]
    },
    {
      "cell_type": "markdown",
      "metadata": {},
      "source": [
        "1. Contesta las siguientes preguntas:  \n",
        "    b. ¿Cuál es la vez en que ha habido ganadores de melate más próximos?"
      ]
    },
    {
      "cell_type": "code",
      "execution_count": 85,
      "metadata": {},
      "outputs": [
        {
          "name": "stdout",
          "output_type": "stream",
          "text": [
            "Ha habido ganadores de melate separados por 3.0 sorteos\n"
          ]
        }
      ],
      "source": [
        "con_ganador = df['Amount'].diff()[df['Amount'].diff()<=0] # Serie con solo los sorteos con ganadores\n",
        "idx_con_ganador = pd.Series(con_ganador.index) # índices de los sorteos con ganador\n",
        "sorteos_con_ganador = idx_con_ganador.diff() # número de sorteos con ganador entre sorteos sin ganar\n",
        "print(f\"Ha habido ganadores de melate separados por {sorteos_con_ganador.min()} sorteos\")"
      ]
    }
  ],
  "metadata": {
    "colab": {
      "provenance": []
    },
    "kernelspec": {
      "display_name": "Python 3",
      "name": "python3"
    },
    "language_info": {
      "codemirror_mode": {
        "name": "ipython",
        "version": 3
      },
      "file_extension": ".py",
      "mimetype": "text/x-python",
      "name": "python",
      "nbconvert_exporter": "python",
      "pygments_lexer": "ipython3",
      "version": "3.11.3"
    }
  },
  "nbformat": 4,
  "nbformat_minor": 0
}
