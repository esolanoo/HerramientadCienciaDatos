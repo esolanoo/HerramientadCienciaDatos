{
 "cells": [
  {
   "cell_type": "markdown",
   "metadata": {},
   "source": [
    "# Myself (as a Short Mini-Biography)\n",
    "## Eduardo Solano Jaime\n",
    "### Herramientas para la ciencia de datos - ECID\n",
    "---\n",
    "![Eduardo Solano](https://media.licdn.com/dms/image/C4E03AQHYwAYSnq9h_A/profile-displayphoto-shrink_400_400/0/1652705607568?e=1698883200&v=beta&t=hiBvSW41LtaTM2ZrAOg6LT90u32y6JYwhpGmclddFTY)\n",
    "\n",
    "My name is **Eduardo Solano Jaime**, I was born on July 29th, 1999 in [Aguascalientes](https://en.wikipedia.org/wiki/Aguascalientes), where I also studied my bachelor's degree in Mechatronics Engineering at Universidad Panamericana campus Bonaterra.\n",
    "I am currently studying my Data Science especialization at the same university but in Guadalajara.\n",
    "\n",
    "I have some experience in the industry. Here is a list of my previous jobs so far:\n",
    "| Job | Company | Time spent there |\n",
    "| ----------- | ----------- | ----- |\n",
    "| Accountant Assistant | Chavez y Gutierrez | Every winter during higschool and uni |\n",
    "| Continuous Improvement and Data Analyst Intern | Cooper Standard | 6 months (Feb 23 - Aug 23) |\n",
    "| Embedded System Developer Intern | Solflex | Current |\n",
    "\n",
    "Here is my [LinkedIn profile](https://www.linkedin.com/in/eduardo-solano-aba8841ab/) in which a more detailed description is shown on my academic and career path.\n",
    "\n",
    "### Hobbies\n",
    "I do, as every human, enjoy my hobbies:\n",
    "    - Reading (especially classics and tennage fantasy sagas)\n",
    "    - Gym, although I'd like to do it more often.\n",
    "    - Volleyball\n",
    "\n",
    "---\n",
    "Thanks for reading!\n",
    "\n",
    "*Eduardo Solano*\n"
   ]
  }
 ],
 "metadata": {
  "language_info": {
   "name": "python"
  },
  "orig_nbformat": 4
 },
 "nbformat": 4,
 "nbformat_minor": 2
}
