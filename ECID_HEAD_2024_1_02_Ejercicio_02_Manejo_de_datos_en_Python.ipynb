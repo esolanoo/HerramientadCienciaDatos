{
  "cells": [
    {
      "cell_type": "code",
      "execution_count": 68,
      "metadata": {
        "id": "ra4fMESINtm-"
      },
      "outputs": [],
      "source": [
        "%%capture\n",
        "!wget https://raw.githubusercontent.com/DRMiguelAR/Herramientas_Analisis/master/atp_matches_2017.csv\n",
        "!wget https://raw.githubusercontent.com/DRMiguelAR/Herramientas_Analisis/master/atp_matches_2016.csv\n",
        "!wget https://raw.githubusercontent.com/DRMiguelAR/Herramientas_Analisis/master/atp_matches_2015.csv\n",
        "!wget https://raw.githubusercontent.com/DRMiguelAR/Herramientas_Analisis/master/atp_matches_2014.csv\n",
        "!wget https://raw.githubusercontent.com/DRMiguelAR/Herramientas_Analisis/master/atp_matches_2013.csv\n",
        "!wget https://raw.githubusercontent.com/DRMiguelAR/Herramientas_Analisis/master/atp_matches_2012.csv"
      ]
    },
    {
      "cell_type": "markdown",
      "metadata": {
        "id": "nlXTuRc-crZk"
      },
      "source": [
        "# Integrantes del equipo:\n",
        "\n",
        "Contesta las siguientes preguntas, __sin__ utilizar la librería Pandas.\n",
        "\n",
        "- Eduardo Solano Jaime \n",
        "- Paulina Barba Mendoza"
      ]
    },
    {
      "cell_type": "markdown",
      "metadata": {
        "id": "36Dr91FYR665"
      },
      "source": [
        "# Manejo de datos\n",
        "- Extrae las categorías del archivo.\n",
        "\n",
        "**Tenemos las bases de datos en otra carpeta, esta parte puede fallar si la corren en otra compu. Solo es cuestion de cambiar la ruta de los archivos**\n"
      ]
    },
    {
      "cell_type": "code",
      "execution_count": 69,
      "metadata": {
        "id": "v1c5u-dnS7qV"
      },
      "outputs": [
        {
          "data": {
            "text/plain": [
              "['tourney_id',\n",
              " 'tourney_name',\n",
              " 'surface',\n",
              " 'draw_size',\n",
              " 'tourney_level',\n",
              " 'tourney_date',\n",
              " 'match_num',\n",
              " 'winner_id',\n",
              " 'winner_seed',\n",
              " 'winner_entry',\n",
              " 'winner_name',\n",
              " 'winner_hand',\n",
              " 'winner_ht',\n",
              " 'winner_ioc',\n",
              " 'winner_age',\n",
              " 'winner_rank',\n",
              " 'winner_rank_points',\n",
              " 'loser_id',\n",
              " 'loser_seed',\n",
              " 'loser_entry',\n",
              " 'loser_name',\n",
              " 'loser_hand',\n",
              " 'loser_ht',\n",
              " 'loser_ioc',\n",
              " 'loser_age',\n",
              " 'loser_rank',\n",
              " 'loser_rank_points',\n",
              " 'score',\n",
              " 'best_of',\n",
              " 'round',\n",
              " 'minutes',\n",
              " 'w_ace',\n",
              " 'w_df',\n",
              " 'w_svpt',\n",
              " 'w_1stIn',\n",
              " 'w_1stWon',\n",
              " 'w_2ndWon',\n",
              " 'w_SvGms',\n",
              " 'w_bpSaved',\n",
              " 'w_bpFaced',\n",
              " 'l_ace',\n",
              " 'l_df',\n",
              " 'l_svpt',\n",
              " 'l_1stIn',\n",
              " 'l_1stWon',\n",
              " 'l_2ndWon',\n",
              " 'l_SvGms',\n",
              " 'l_bpSaved',\n",
              " 'l_bpFaced']"
            ]
          },
          "execution_count": 69,
          "metadata": {},
          "output_type": "execute_result"
        }
      ],
      "source": [
        "import os\n",
        "import csv\n",
        "\n",
        "# Get the current working directory (where the notebook is located)\n",
        "file_directory = os.getcwd()\n",
        "database_directory = file_directory + '\\\\Databases\\\\'\n",
        "file_name = 'atp_matches_2012.csv'\n",
        "\n",
        "file = open(database_directory + file_name)\n",
        "data = csv.reader(file)\n",
        "\n",
        "headers = next(data) # la primera línea del archivo\n",
        "headers\n"
      ]
    },
    {
      "cell_type": "code",
      "execution_count": 70,
      "metadata": {
        "colab": {
          "base_uri": "https://localhost:8080/"
        },
        "id": "B2YC235WiVXr",
        "outputId": "0ff74106-5f0a-47d8-b0cd-e610beec7d7b"
      },
      "outputs": [
        {
          "data": {
            "text/plain": [
              "15235"
            ]
          },
          "execution_count": 70,
          "metadata": {},
          "output_type": "execute_result"
        }
      ],
      "source": [
        "import csv\n",
        "\n",
        "años= range(2, 8)\n",
        "i=2\n",
        "partidos_bruto= []\n",
        "\n",
        "file_directory = os.getcwd()\n",
        "database_directory = file_directory + '\\\\Databases\\\\'\n",
        "\n",
        "for i in años:\n",
        "    file_name= \"atp_matches_201\" +str(i)+ \".csv\"\n",
        "    file = open(database_directory + file_name)\n",
        "    data = csv.reader(file)\n",
        "    categorias= next(data)\n",
        "    partidos_bruto+= [p for p in data]\n",
        "\n",
        "\n",
        "len(partidos_bruto)"
      ]
    },
    {
      "cell_type": "markdown",
      "metadata": {
        "id": "wRZmG5RyS5pM"
      },
      "source": [
        "- Crea una lista con cada partido, donde los datos de cada partido sean un diccionario. Con las categorías como llave y el valor como el contenido.\n"
      ]
    },
    {
      "cell_type": "markdown",
      "metadata": {},
      "source": [
        "Primero hacemos una clase para gradar los datos de los jugadores"
      ]
    },
    {
      "cell_type": "code",
      "execution_count": 71,
      "metadata": {},
      "outputs": [],
      "source": [
        "class Match:\n",
        "    def __init__(self, value_list):\n",
        "        for name, value in zip(headers, value_list):\n",
        "            setattr(self, name, value)\n",
        "    def __str__(self):\n",
        "        return f\"{dict(self)}\""
      ]
    },
    {
      "cell_type": "code",
      "execution_count": 72,
      "metadata": {
        "id": "OxualnL4TCxp"
      },
      "outputs": [
        {
          "name": "stdout",
          "output_type": "stream",
          "text": [
            "{'tourney_id': '2012-418', 'tourney_name': 'Washington', 'surface': 'Hard', 'draw_size': '32', 'tourney_level': 'A', 'tourney_date': '20120730', 'match_num': '1', 'winner_id': '103888', 'winner_seed': '1', 'winner_entry': '', 'winner_name': 'Mardy Fish', 'winner_hand': 'R', 'winner_ht': '188', 'winner_ioc': 'USA', 'winner_age': '30.6392881588', 'winner_rank': '15', 'winner_rank_points': '1955', 'loser_id': '103451', 'loser_seed': '', 'loser_entry': '', 'loser_name': 'Bjorn Phau', 'loser_hand': 'R', 'loser_ht': '175', 'loser_ioc': 'GER', 'loser_age': '32.8213552361', 'loser_rank': '77', 'loser_rank_points': '627', 'score': '4-6 6-1 6-2', 'best_of': '3', 'round': 'R32', 'minutes': '113', 'w_ace': '15', 'w_df': '3', 'w_svpt': '82', 'w_1stIn': '49', 'w_1stWon': '34', 'w_2ndWon': '22', 'w_SvGms': '13', 'w_bpSaved': '6', 'w_bpFaced': '7', 'l_ace': '5', 'l_df': '5', 'l_svpt': '81', 'l_1stIn': '47', 'l_1stWon': '31', 'l_2ndWon': '15', 'l_SvGms': '12', 'l_bpSaved': '5', 'l_bpFaced': '9'}\n"
          ]
        }
      ],
      "source": [
        "matches = list()\n",
        "\n",
        "for i in años:\n",
        "    file_name= \"atp_matches_201\" +str(i)+ \".csv\"\n",
        "    file = open(database_directory + file_name)\n",
        "    data = csv.reader(file)\n",
        "    next(data)\n",
        "    for line in data:\n",
        "        matches.append(Match(line).__dict__)\n",
        "\n",
        "# Ejemplo\n",
        "print(matches[0])"
      ]
    },
    {
      "cell_type": "markdown",
      "metadata": {
        "id": "g6CjfgXFTFCm"
      },
      "source": [
        "# Filtrado de datos\n",
        "- Haz un conjunto de todos los nombres de ganadores de partidos.\n"
      ]
    },
    {
      "cell_type": "code",
      "execution_count": 73,
      "metadata": {
        "id": "UVHDrofrTHpm"
      },
      "outputs": [
        {
          "data": {
            "text/plain": [
              "['', 'Ignacio Garcia', 'Jozef Kovalik', 'Warit Sornbutnark', 'Mathias Bourgue']"
            ]
          },
          "execution_count": 73,
          "metadata": {},
          "output_type": "execute_result"
        }
      ],
      "source": [
        "# ganadores\n",
        "winners = set([x['winner_name'] for x in matches])\n",
        "\n",
        "#Ejemplo\n",
        "list(winners)[:5]"
      ]
    },
    {
      "cell_type": "markdown",
      "metadata": {
        "id": "MhOuV9WJTJNo"
      },
      "source": [
        "- Haz un conjunto de todos los nombres de perdedores de partidos.\n"
      ]
    },
    {
      "cell_type": "code",
      "execution_count": 74,
      "metadata": {
        "id": "Uw_3hOHbS9Ny"
      },
      "outputs": [
        {
          "data": {
            "text/plain": [
              "['', 'Jozef Kovalik', 'Warit Sornbutnark', 'Mathias Bourgue', 'Issam Al Tawil']"
            ]
          },
          "execution_count": 74,
          "metadata": {},
          "output_type": "execute_result"
        }
      ],
      "source": [
        "# perdedores\n",
        "losers = set([x['loser_name'] for x in matches])\n",
        "\n",
        "#Ejemplo\n",
        "list(losers)[:5]"
      ]
    },
    {
      "cell_type": "markdown",
      "metadata": {
        "id": "z7g0YjDiTO58"
      },
      "source": [
        "- Enlista qué jugadores no han perdido ningún partido."
      ]
    },
    {
      "cell_type": "code",
      "execution_count": 75,
      "metadata": {
        "id": "vzmMVBJWTRBQ"
      },
      "outputs": [
        {
          "data": {
            "text/plain": [
              "['Ignacio Garcia',\n",
              " 'Marcelo Tomas Barrios Vera',\n",
              " 'Mazen Osama',\n",
              " 'Hamid Reza Nadaf',\n",
              " 'Kevin Kung']"
            ]
          },
          "execution_count": 75,
          "metadata": {},
          "output_type": "execute_result"
        }
      ],
      "source": [
        "# no han perdido\n",
        "big_winners = [x for x in winners if x not in losers]\n",
        "\n",
        "# Ejemplo\n",
        "big_winners[:5]"
      ]
    },
    {
      "cell_type": "markdown",
      "metadata": {
        "id": "JzO4SdAYTUjv"
      },
      "source": [
        "- ¿Cuántos jugadores no han perdido ningún partido?\n"
      ]
    },
    {
      "cell_type": "code",
      "execution_count": 76,
      "metadata": {
        "id": "EK-hgq20TOV1"
      },
      "outputs": [
        {
          "data": {
            "text/plain": [
              "36"
            ]
          },
          "execution_count": 76,
          "metadata": {},
          "output_type": "execute_result"
        }
      ],
      "source": [
        "# número de jugadores que no han perdido\n",
        "len(big_winners)"
      ]
    },
    {
      "cell_type": "markdown",
      "metadata": {
        "id": "kCDeltsgTgN-"
      },
      "source": [
        "- Enlista qué jugadores no han ganado ningún partido."
      ]
    },
    {
      "cell_type": "code",
      "execution_count": 77,
      "metadata": {
        "id": "4NM_CZ15T0Gg"
      },
      "outputs": [
        {
          "data": {
            "text/plain": [
              "['Soon Woo Kwon',\n",
              " 'Andrei Daescu',\n",
              " 'Haluk Akkoyun',\n",
              " 'Karim Hossam',\n",
              " 'Andres Bucaro']"
            ]
          },
          "execution_count": 77,
          "metadata": {},
          "output_type": "execute_result"
        }
      ],
      "source": [
        "# no han ganado\n",
        "big_losers = [x for x in losers if x not in winners]\n",
        "\n",
        "#Ejemplo\n",
        "big_losers[:5]"
      ]
    },
    {
      "cell_type": "markdown",
      "metadata": {
        "id": "SJlghWnjT3lQ"
      },
      "source": [
        "- ¿Cuántos jugadores no han ganado ningún partido?"
      ]
    },
    {
      "cell_type": "code",
      "execution_count": 78,
      "metadata": {
        "id": "n-t9V2roT6-f"
      },
      "outputs": [
        {
          "data": {
            "text/plain": [
              "321"
            ]
          },
          "execution_count": 78,
          "metadata": {},
          "output_type": "execute_result"
        }
      ],
      "source": [
        "# número de jugadores que no han ganado\n",
        "len(big_losers)"
      ]
    },
    {
      "cell_type": "markdown",
      "metadata": {
        "id": "OdNB-XhIVnqR"
      },
      "source": [
        "- Haz una lista diciendo cuántos partidos ha ganado cada jugador."
      ]
    },
    {
      "cell_type": "code",
      "execution_count": 79,
      "metadata": {
        "id": "iQsh-8efUBiF"
      },
      "outputs": [
        {
          "data": {
            "text/plain": [
              "[63, 1, 6, 2, 1]"
            ]
          },
          "execution_count": 79,
          "metadata": {},
          "output_type": "execute_result"
        }
      ],
      "source": [
        "# cantidad de partidos ganados por jugador\n",
        "# in the same order as winners list\n",
        "matches_won = list()\n",
        "for winner in winners:\n",
        "    matches_won.append(len([x for x in matches if x['winner_name'] == winner]))\n",
        "\n",
        "# Ejemplo\n",
        "matches_won[:5]"
      ]
    },
    {
      "cell_type": "markdown",
      "metadata": {
        "id": "IWNKt6JbVxYG"
      },
      "source": [
        "- Haz una lista diciendo cuántos partidos ha perdido cada jugador"
      ]
    },
    {
      "cell_type": "code",
      "execution_count": 80,
      "metadata": {
        "id": "ptQPlWTpVsKK"
      },
      "outputs": [
        {
          "data": {
            "text/plain": [
              "[63, 11, 4, 1, 2]"
            ]
          },
          "execution_count": 80,
          "metadata": {},
          "output_type": "execute_result"
        }
      ],
      "source": [
        "# cantidad de partidos perdidos por jugador\n",
        "# in the same order as losers list\n",
        "matches_lost = list()\n",
        "for loser in losers:\n",
        "    matches_lost.append(len([x for x in matches if x['loser_name'] == loser]))\n",
        "\n",
        "# Ejemplo\n",
        "matches_lost[:5]"
      ]
    },
    {
      "cell_type": "markdown",
      "metadata": {
        "id": "QE6j2askV1P1"
      },
      "source": [
        "- Obtén el jugador con más partidos ganados."
      ]
    },
    {
      "cell_type": "code",
      "execution_count": 81,
      "metadata": {
        "id": "KfJ_GfGjVv6w"
      },
      "outputs": [
        {
          "name": "stdout",
          "output_type": "stream",
          "text": [
            "Novak Djokovic con 370\n"
          ]
        }
      ],
      "source": [
        "# jugador con más partidos ganados\n",
        "print(list(winners)[matches_won.index(max(matches_won))] + ' con ' + str(max(matches_won)))"
      ]
    },
    {
      "cell_type": "markdown",
      "metadata": {
        "id": "Es8nGDBiWR1W"
      },
      "source": [
        "- Obtén el jugador con más partidos perdidos"
      ]
    },
    {
      "cell_type": "code",
      "execution_count": 82,
      "metadata": {
        "id": "VfEfyic5WVC3"
      },
      "outputs": [
        {
          "name": "stdout",
          "output_type": "stream",
          "text": [
            "Andreas Seppi con 137\n"
          ]
        }
      ],
      "source": [
        "# jugador con más partidos perdidos\n",
        "print(list(losers)[matches_lost.index(max(matches_lost))] + ' con ' + str(max(matches_lost)))"
      ]
    },
    {
      "cell_type": "markdown",
      "metadata": {
        "id": "OlpdUo7sX080"
      },
      "source": [
        "- Obtén todos los jugadores que hayan llegado a semifinales"
      ]
    },
    {
      "cell_type": "code",
      "execution_count": 83,
      "metadata": {},
      "outputs": [
        {
          "data": {
            "text/plain": [
              "['Benoit Paire',\n",
              " 'Daniel Evans',\n",
              " 'Stanislas Wawrinka',\n",
              " 'Santiago Giraldo',\n",
              " 'Teymuraz Gabashvili']"
            ]
          },
          "execution_count": 83,
          "metadata": {},
          "output_type": "execute_result"
        }
      ],
      "source": [
        "semifinalists = set([x['winner_name'] for x in matches if ('round' in x and x['round'] == 'QF')])\n",
        "\n",
        "# Ejemplo\n",
        "list(semifinalists)[:5]"
      ]
    },
    {
      "cell_type": "markdown",
      "metadata": {
        "id": "dXNj3tlJX-QY"
      },
      "source": [
        "- Obtén todos los jugadores que hayan ganado una final."
      ]
    },
    {
      "cell_type": "code",
      "execution_count": 84,
      "metadata": {
        "id": "OiHThCotX73y"
      },
      "outputs": [
        {
          "data": {
            "text/plain": [
              "['Benoit Paire',\n",
              " 'Stanislas Wawrinka',\n",
              " 'Andy Roddick',\n",
              " 'Marin Cilic',\n",
              " 'Fernando Verdasco']"
            ]
          },
          "execution_count": 84,
          "metadata": {},
          "output_type": "execute_result"
        }
      ],
      "source": [
        "# Campeones\n",
        "finnalist_winners = set([x['winner_name'] for x in matches if ('round' in x and x['round'] == 'F')])\n",
        "\n",
        "# Ejemplo\n",
        "list(finnalist_winners)[:5]"
      ]
    },
    {
      "cell_type": "markdown",
      "metadata": {
        "id": "kicfyiVeYLNC"
      },
      "source": [
        "-"
      ]
    },
    {
      "cell_type": "markdown",
      "metadata": {
        "id": "jPi8L2zQWfEP"
      },
      "source": [
        "# Ordenamiento\n",
        "- Obtén los 10 jugadores con más partidos ganados y especifica cuántos partidos ganaron."
      ]
    },
    {
      "cell_type": "code",
      "execution_count": 85,
      "metadata": {
        "id": "0pafH548W3Me"
      },
      "outputs": [
        {
          "name": "stdout",
          "output_type": "stream",
          "text": [
            "Novak Djokovic con 370 juegos ganados\n",
            "Andy Murray con 320 juegos ganados\n",
            "David Ferrer con 288 juegos ganados\n",
            "Roger Federer con 284 juegos ganados\n",
            "Rafael Nadal con 276 juegos ganados\n",
            "Tomas Berdych con 273 juegos ganados\n",
            "Kei Nishikori con 246 juegos ganados\n",
            "Stanislas Wawrinka con 236 juegos ganados\n",
            "Milos Raonic con 232 juegos ganados\n",
            "Jo Wilfried Tsonga con 208 juegos ganados\n"
          ]
        }
      ],
      "source": [
        "# top 10\n",
        "x = dict()\n",
        "for name, victories in zip(winners, matches_won):\n",
        "    x[name] = victories\n",
        "players = {k: v for k, v in sorted(x.items(), key=lambda item: item[1], reverse=True)}\n",
        "count = 0\n",
        "for key, value in players.items():\n",
        "    if count < 10:\n",
        "        print(f\"{key} con {value} juegos ganados\")\n",
        "    else: \n",
        "        break\n",
        "    count += 1"
      ]
    },
    {
      "cell_type": "markdown",
      "metadata": {
        "id": "bbQkb21MW6d4"
      },
      "source": [
        "- Obtén los 10 jugadores con más partidos perdidos y especifica cuántos partidos perdieron."
      ]
    },
    {
      "cell_type": "code",
      "execution_count": 86,
      "metadata": {
        "id": "3vUqT7l-W4xf"
      },
      "outputs": [
        {
          "name": "stdout",
          "output_type": "stream",
          "text": [
            "Andreas Seppi con 137 juegos perdidos\n",
            "Denis Istomin con 134 juegos perdidos\n",
            "Guillermo Garcia Lopez con 132 juegos perdidos\n",
            "Albert Ramos con 130 juegos perdidos\n",
            "Fabio Fognini con 128 juegos perdidos\n",
            "Lukas Rosol con 128 juegos perdidos\n",
            "Benoit Paire con 127 juegos perdidos\n",
            "Philipp Kohlschreiber con 127 juegos perdidos\n",
            "Gilles Simon con 126 juegos perdidos\n",
            "Feliciano Lopez con 125 juegos perdidos\n"
          ]
        }
      ],
      "source": [
        "# top 10\n",
        "x = dict()\n",
        "for name, victories in zip(losers, matches_lost):\n",
        "    x[name] = victories\n",
        "players = {k: v for k, v in sorted(x.items(), key=lambda item: item[1], reverse=True)}\n",
        "count = 0\n",
        "for key, value in players.items():\n",
        "    if count < 10:\n",
        "        print(f\"{key} con {value} juegos perdidos\")\n",
        "    else: \n",
        "        break\n",
        "    count += 1"
      ]
    },
    {
      "cell_type": "markdown",
      "metadata": {
        "id": "sK7yV22jaBIi"
      },
      "source": [
        "- Obtén una lista con los tipos de canchas que existen (pasto, arcilla, etc)"
      ]
    },
    {
      "cell_type": "code",
      "execution_count": 87,
      "metadata": {
        "id": "kOxmDNmwXCaL"
      },
      "outputs": [
        {
          "name": "stdout",
          "output_type": "stream",
          "text": [
            "['', 'Carpet', 'Clay', 'Grass', 'Hard']\n"
          ]
        }
      ],
      "source": [
        "# Tipos de canchas\n",
        "print(list(set([x['surface'] for x in matches])))"
      ]
    },
    {
      "cell_type": "markdown",
      "metadata": {
        "id": "JzNp_EWhbFw-"
      },
      "source": [
        "- Para cada tipo de cancha: Obtén una lista con los tres jugadores con más finales ganadas, y la cantidad de finales ganadas."
      ]
    },
    {
      "cell_type": "code",
      "execution_count": 88,
      "metadata": {
        "id": "DvARsQ8zcQnA"
      },
      "outputs": [
        {
          "name": "stdout",
          "output_type": "stream",
          "text": [
            "Para el tipo de cancha --> Carpet:\n",
            "Frederik Nielsen con 4 partidos ganados\n",
            "Jerzy Janowicz con 4 partidos ganados\n",
            "Nikoloz Basilashvili con 2 partidos ganados\n",
            "\n",
            "Para el tipo de cancha --> Clay:\n",
            "Rafael Nadal con 135 partidos ganados\n",
            "David Ferrer con 113 partidos ganados\n",
            "Nicolas Almagro con 102 partidos ganados\n",
            "\n",
            "Para el tipo de cancha --> Grass:\n",
            "Andy Murray con 53 partidos ganados\n",
            "Roger Federer con 51 partidos ganados\n",
            "Nicolas Mahut con 35 partidos ganados\n",
            "\n",
            "Para el tipo de cancha --> Hard:\n",
            "Novak Djokovic con 262 partidos ganados\n",
            "Andy Murray con 207 partidos ganados\n",
            "Tomas Berdych con 192 partidos ganados\n",
            "\n"
          ]
        }
      ],
      "source": [
        "# Hard\n",
        "for court in list(set([x['surface'] for x in matches]))[1::]:\n",
        "    court_winners = dict()\n",
        "    for winner in winners:\n",
        "        court_winners[winner] = len([x for x in matches if x['winner_name'] == winner and x['surface'] == court])\n",
        "    court_winners = {k: v for k, v in sorted(court_winners.items(), key=lambda item: item[1], reverse=True)}\n",
        "\n",
        "    count = 0\n",
        "    print(f\"Para el tipo de cancha --> {court}:\")\n",
        "    for key, value in court_winners.items():\n",
        "        if count < 3:\n",
        "            print(f\"{key} con {value} partidos ganados\")\n",
        "        else: \n",
        "            break\n",
        "        count += 1\n",
        "    print()\n"
      ]
    },
    {
      "cell_type": "markdown",
      "metadata": {
        "id": "YFy8jn5AbOMv"
      },
      "source": [
        "# Pregunta ¿Quién fue el mejor jugador de la ATP de 2012 a 2017?"
      ]
    },
    {
      "cell_type": "markdown",
      "metadata": {},
      "source": [
        "Nosotros, personalmente, los callificaría por la relacion entre los juegos ganados de los jugadores contra el total de juegos que tienen registrados."
      ]
    },
    {
      "cell_type": "code",
      "execution_count": 89,
      "metadata": {
        "id": "iIygOPY7bJke"
      },
      "outputs": [
        {
          "name": "stdout",
          "output_type": "stream",
          "text": [
            "The players with the best winning ratio:\n",
            "Novak Djokovic 0.891566265060241\n",
            "Liang Chi Huang 0.8571428571428571\n",
            "Roger Federer 0.8231884057971014\n",
            "Andy Murray 0.8184143222506394\n",
            "Rafael Nadal 0.8165680473372781\n"
          ]
        }
      ],
      "source": [
        "candidates = [x for x in winners if x in losers]\n",
        "\n",
        "# Matches won\n",
        "players_win = dict()\n",
        "for winner, won in zip(winners, matches_won):\n",
        "    players_win[winner] = won\n",
        "\n",
        "# Matche lost\n",
        "players_lost = dict()\n",
        "for loser, loss in zip(losers, matches_lost):\n",
        "    players_lost[loser] = loss\n",
        "\n",
        "# Ratio\n",
        "player_ratio = dict()\n",
        "for candidate in candidates:\n",
        "    player_ratio[candidate] = players_win[candidate] / (players_win[candidate] + players_lost[candidate])\n",
        "\n",
        "player_ratio = {k: v for k, v in sorted(player_ratio.items(), key=lambda item: item[1], reverse=True)}\n",
        "print('The players with the best winning ratio:')\n",
        "count = 0\n",
        "for key, value in player_ratio.items():\n",
        "    if count < 5:\n",
        "        print(key, value)\n",
        "    else: \n",
        "        break\n",
        "    count += 1"
      ]
    },
    {
      "cell_type": "markdown",
      "metadata": {},
      "source": [
        "Ergo, el mejor jugador de la ATP del 2012 al 2017 ha sido **Novak Djokovic**"
      ]
    }
  ],
  "metadata": {
    "colab": {
      "provenance": []
    },
    "kernelspec": {
      "display_name": "Python 3",
      "name": "python3"
    },
    "language_info": {
      "codemirror_mode": {
        "name": "ipython",
        "version": 3
      },
      "file_extension": ".py",
      "mimetype": "text/x-python",
      "name": "python",
      "nbconvert_exporter": "python",
      "pygments_lexer": "ipython3",
      "version": "3.11.3"
    }
  },
  "nbformat": 4,
  "nbformat_minor": 0
}
